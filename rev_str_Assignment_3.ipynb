{
  "nbformat": 4,
  "nbformat_minor": 0,
  "metadata": {
    "colab": {
      "provenance": [],
      "authorship_tag": "ABX9TyPLY1TQxuKqM5eieVDNPqub",
      "include_colab_link": true
    },
    "kernelspec": {
      "name": "python3",
      "display_name": "Python 3"
    },
    "language_info": {
      "name": "python"
    }
  },
  "cells": [
    {
      "cell_type": "markdown",
      "metadata": {
        "id": "view-in-github",
        "colab_type": "text"
      },
      "source": [
        "<a href=\"https://colab.research.google.com/github/rohit7798github/rev_str-Assignment-3/blob/main/rev_str_Assignment_3.ipynb\" target=\"_parent\"><img src=\"https://colab.research.google.com/assets/colab-badge.svg\" alt=\"Open In Colab\"/></a>"
      ]
    },
    {
      "cell_type": "code",
      "execution_count": 1,
      "metadata": {
        "colab": {
          "base_uri": "https://localhost:8080/"
        },
        "id": "JjOzMmZN_8UF",
        "outputId": "32c8ee38-6235-4f17-f3bc-c29bc36398e3"
      },
      "outputs": [
        {
          "output_type": "stream",
          "name": "stdout",
          "text": [
            "dcba4321\n"
          ]
        }
      ],
      "source": [
        "def rev_string(str):\n",
        "    rev_string = ''\n",
        "    index = len(str)\n",
        "    while index > 0:\n",
        "        rev_string = rev_string + str[index-1]\n",
        "        index -=1\n",
        "    return rev_string\n",
        "\n",
        "print(rev_string(\"1234abcd\"))\n"
      ]
    }
  ]
}